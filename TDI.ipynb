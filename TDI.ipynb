{
 "cells": [
  {
   "cell_type": "code",
   "execution_count": 1,
   "id": "19d1d371",
   "metadata": {},
   "outputs": [
    {
     "name": "stdout",
     "output_type": "stream",
     "text": [
      "6307200\n"
     ]
    }
   ],
   "source": [
    "#.提取观测数据和验证双星数据\n",
    "import h5py\n",
    "import numpy as np\n",
    "file_path=r\"C:\\Users\\86130\\Desktop\\LDC2_sangria_training_v2.h5\"\n",
    "def extract_obs_data(file_path):\n",
    "    obs_data={}\n",
    "    with h5py.File(file_path,'r') as f:\n",
    "        obs_tdi=f['obs/tdi'][:]\n",
    "        if obs_tdi.ndim == 2 and obs_tdi.shape[1] == 1:\n",
    "            obs_tdi=obs_tdi.flatten()\n",
    "        obs_data['obs_time']=obs_tdi['t']\n",
    "        obs_data['obs_X']=obs_tdi['X']\n",
    "        obs_data['obs_Y']=obs_tdi['Y']\n",
    "        obs_data['obs_Z']=obs_tdi['Z']\n",
    "        obs_data['obs_A']=(obs_tdi['Z']-obs_tdi['X'])/np.sqrt(2)\n",
    "        obs_data['obs_E']=(obs_tdi['X']-2*obs_tdi['Y']+obs_tdi['Z'])/np.sqrt(6)\n",
    "        obs_data['obs_dt']=obs_tdi['t'][1]-obs_tdi['t'][0]\n",
    "        N=len(obs_data['obs_time'])\n",
    "        obs_data['obs_frequency']=np.fft.fftfreq(N,obs_data['obs_dt'])\n",
    "        obs_data['obs_df']=obs_data['obs_frequency'][1]-obs_data['obs_frequency'][0]\n",
    "        obs_data['obs_X_f']=np.fft.fft(obs_data['obs_X'])\n",
    "        obs_data['obs_Y_f']=np.fft.fft(obs_data['obs_Y'])\n",
    "        obs_data['obs_Z_f']=np.fft.fft(obs_data['obs_Z'])\n",
    "        obs_data['obs_A_f']=np.fft.fft(obs_data['obs_A'])\n",
    "        obs_data['obs_E_f']=np.fft.fft(obs_data['obs_E'])\n",
    "        print(len(obs_data['obs_time']))\n",
    "    return obs_data\n",
    "\n",
    "obs_data=extract_obs_data(file_path)\n",
    "def extract_vgb_data(file_path):\n",
    "    vgb_data={}\n",
    "    with h5py.File(file_path,'r') as f:\n",
    "        vgb_tdi=f['sky/vgb/tdi'][:]\n",
    "        if vgb_tdi.ndim == 2 and vgb_tdi.shape[1] == 1:\n",
    "            vgb_tdi=vgb_tdi.flatten()\n",
    "        vgb_data['vgb_t']=vgb_tdi['t']\n",
    "        vgb_data['vgb_X']=vgb_tdi['X']\n",
    "        vgb_data['vgb_Y']=vgb_tdi['Y']\n",
    "        vgb_data['vgb_Z']=vgb_tdi['Z']\n",
    "        vgb_data['vgb_A']=(vgb_tdi['Z']-vgb_tdi['X'])/np.sqrt(2)\n",
    "        vgb_data['vgb_E']=(vgb_tdi['X']-2*vgb_tdi['Y']+vgb_tdi['Z'])/np.sqrt(6)\n",
    "        vgb_data['vgb_X_f']=np.fft.fft(vgb_data['vgb_X'])\n",
    "        vgb_data['vgb_Y_f']=np.fft.fft(vgb_data['vgb_Y'])\n",
    "        vgb_data['vgb_Z_f']=np.fft.fft(vgb_data['vgb_Z'])\n",
    "        vgb_data['vgb_A_f']=np.fft.fft(vgb_data['vgb_A'])\n",
    "        vgb_data['vgb_E_f']=np.fft.fft(vgb_data['vgb_E'])\n",
    "\n",
    "    return vgb_data\n",
    "vgb_data=extract_vgb_data(file_path)"
   ]
  }
 ],
 "metadata": {
  "kernelspec": {
   "display_name": "base",
   "language": "python",
   "name": "python3"
  },
  "language_info": {
   "codemirror_mode": {
    "name": "ipython",
    "version": 3
   },
   "file_extension": ".py",
   "mimetype": "text/x-python",
   "name": "python",
   "nbconvert_exporter": "python",
   "pygments_lexer": "ipython3",
   "version": "3.13.2"
  }
 },
 "nbformat": 4,
 "nbformat_minor": 5
}
